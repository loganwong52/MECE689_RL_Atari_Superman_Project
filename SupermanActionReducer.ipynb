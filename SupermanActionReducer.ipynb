{
 "cells": [
  {
   "cell_type": "code",
   "execution_count": null,
   "id": "65042589-b5ec-4351-a504-f36a20466501",
   "metadata": {},
   "outputs": [],
   "source": [
    "import gymnasium as gym\n",
    "import ale_py\n",
    "import numpy as np\n",
    "from stable_baselines3 import DQN\t\n",
    "import matplotlib.pyplot as plt\n",
    "from collections import deque\n",
    "import torch\n",
    "\n",
    "# For debugging\n",
    "from stable_baselines3.common.monitor import Monitor\n",
    "from stable_baselines3.common.callbacks import CheckpointCallback\n",
    "from stable_baselines3.common.callbacks import BaseCallback\n",
    "import time\n",
    "\n",
    "# Action masking\n",
    "from gymnasium import ActionWrapper\n"
   ]
  },
  {
   "cell_type": "code",
   "execution_count": null,
   "id": "7a7b888c-424e-4126-a16d-a6c6d8d30e05",
   "metadata": {},
   "outputs": [],
   "source": [
    "class SupermanActionReducer(ActionWrapper):\n",
    "    def __init__(self, env, allowed_actions=None):\n",
    "        super().__init__(env)\n",
    "        \n",
    "        if allowed_actions is None:\n",
    "            # Basic movement only: Cardinal directions & diagonal directions\n",
    "            allowed_actions = [2,3,4,5, 6,7,8,9]\n",
    "            \n",
    "            # Cardinal directions, diagonal directions, AND x-ray vision\n",
    "            # allowed_actions = [2,3,4,5, 6,7,8,9, 10,11,12,13]\n",
    "        \n",
    "        self.allowed_actions = allowed_actions\n",
    "        self.action_space = gym.spaces.Discrete(len(allowed_actions))\n",
    "        \n",
    "    def action(self, action):\n",
    "        # Map the reduced action index back to the original action\n",
    "        return self.allowed_actions[action]"
   ]
  },
  {
   "cell_type": "code",
   "execution_count": null,
   "id": "aa0987d0-00bf-4293-80ca-bf2871d14438",
   "metadata": {},
   "outputs": [],
   "source": []
  },
  {
   "cell_type": "code",
   "execution_count": null,
   "id": "4fce3293-b353-45d6-8d35-e08d3f3b21cd",
   "metadata": {},
   "outputs": [],
   "source": []
  },
  {
   "cell_type": "code",
   "execution_count": null,
   "id": "9e444fd0-9bf1-4079-9481-c6138ea583dd",
   "metadata": {},
   "outputs": [],
   "source": []
  },
  {
   "cell_type": "code",
   "execution_count": null,
   "id": "07cefa56-2bd9-4497-8652-1da3198b58c9",
   "metadata": {},
   "outputs": [],
   "source": []
  },
  {
   "cell_type": "code",
   "execution_count": null,
   "id": "b930ef82-d2d6-42b6-bc11-0521c4899393",
   "metadata": {},
   "outputs": [],
   "source": []
  },
  {
   "cell_type": "code",
   "execution_count": null,
   "id": "e820c77f-c801-4280-ad45-0841531d55ab",
   "metadata": {},
   "outputs": [],
   "source": []
  },
  {
   "cell_type": "code",
   "execution_count": null,
   "id": "8e1e6838-f9d1-4297-9416-e3bd75f3ecc2",
   "metadata": {},
   "outputs": [],
   "source": [
    "def convert(seconds):\n",
    "    seconds = seconds % (24 * 3600)\n",
    "    hour = seconds // 3600\n",
    "    seconds %= 3600\n",
    "    minutes = seconds // 60\n",
    "    seconds %= 60\n",
    "    \n",
    "    return \"%d:%02d:%02d\" % (hour, minutes, seconds)"
   ]
  },
  {
   "cell_type": "code",
   "execution_count": null,
   "id": "d9e8c89c-ef82-4083-aa81-101272208fde",
   "metadata": {},
   "outputs": [],
   "source": []
  },
  {
   "cell_type": "code",
   "execution_count": null,
   "id": "8d16cab1-3d08-4468-9b15-abb1635350ea",
   "metadata": {},
   "outputs": [],
   "source": []
  }
 ],
 "metadata": {
  "kernelspec": {
   "display_name": "Python 3 (ipykernel)",
   "language": "python",
   "name": "python3"
  },
  "language_info": {
   "codemirror_mode": {
    "name": "ipython",
    "version": 3
   },
   "file_extension": ".py",
   "mimetype": "text/x-python",
   "name": "python",
   "nbconvert_exporter": "python",
   "pygments_lexer": "ipython3",
   "version": "3.9.23"
  }
 },
 "nbformat": 4,
 "nbformat_minor": 5
}
