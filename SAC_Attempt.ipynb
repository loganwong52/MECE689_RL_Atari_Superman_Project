{
 "cells": [
  {
   "cell_type": "code",
   "execution_count": null,
   "id": "d9ef97cb-0b79-4119-bc6e-4def430c8cee",
   "metadata": {},
   "outputs": [],
   "source": [
    "from sb3_contrib import SAC"
   ]
  },
  {
   "cell_type": "code",
   "execution_count": null,
   "id": "aca6fb48-ba3a-4c6d-b760-e9d2de1408fc",
   "metadata": {},
   "outputs": [],
   "source": []
  },
  {
   "cell_type": "code",
   "execution_count": null,
   "id": "2fb6c0fd-a1d6-4526-bce8-2c4adba0f27e",
   "metadata": {},
   "outputs": [],
   "source": []
  },
  {
   "cell_type": "code",
   "execution_count": null,
   "id": "28cea016-2ebb-4c13-988f-93e7ccfa5b46",
   "metadata": {},
   "outputs": [],
   "source": []
  }
 ],
 "metadata": {
  "kernelspec": {
   "display_name": "Python 3 (ipykernel)",
   "language": "python",
   "name": "python3"
  },
  "language_info": {
   "codemirror_mode": {
    "name": "ipython",
    "version": 3
   },
   "file_extension": ".py",
   "mimetype": "text/x-python",
   "name": "python",
   "nbconvert_exporter": "python",
   "pygments_lexer": "ipython3",
   "version": "3.9.23"
  }
 },
 "nbformat": 4,
 "nbformat_minor": 5
}
