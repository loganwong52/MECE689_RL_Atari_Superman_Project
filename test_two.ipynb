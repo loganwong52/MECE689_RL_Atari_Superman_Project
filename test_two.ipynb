{
 "cells": [
  {
   "cell_type": "code",
   "execution_count": null,
   "id": "602994dd-6893-44c2-969e-d24aeeb97899",
   "metadata": {},
   "outputs": [],
   "source": [
    "import gymnasium as gym\n",
    "import ale_py\n",
    "import numpy as np\n",
    "import time\n",
    "from ale_py.roms import Superman\n",
    "\n",
    "from stable_baselines3 import PPO, DQN, A2C\t\n",
    "from sb3_contrib import TRPO, QRDQN\n"
   ]
  },
  {
   "cell_type": "code",
   "execution_count": null,
   "id": "b99578fd-8fe9-4a80-ba5c-1849bc2c46c8",
   "metadata": {},
   "outputs": [],
   "source": [
    "print(\"gymnasium version:\", gym.__version__)\n",
    "print(\"ale_py version:\", ale_py.__version__)"
   ]
  },
  {
   "cell_type": "code",
   "execution_count": null,
   "id": "d2c4d374-3599-4b39-a780-70ccc7731ec2",
   "metadata": {},
   "outputs": [],
   "source": [
    "env = gym.make(\"ALE/Superman-v5\", render_mode=None)\n",
    "\n",
    "action_space = env.action_space\n",
    "obs_space = env.observation_space\n",
    "print(\"Action space:\", action_space)\n",
    "print(\"Number of actions:\", action_space.n)\n",
    "\n",
    "print(\"Action meanings:\", env.unwrapped.get_action_meanings())\n",
    "# ['NOOP', 'FIRE', 'UP', 'RIGHT', 'LEFT', 'DOWN', 'UPRIGHT', 'UPLEFT', 'DOWNRIGHT', 'DOWNLEFT', 'UPFIRE', 'RIGHTFIRE', 'LEFTFIRE', 'DOWNFIRE', 'UPRIGHTFIRE', 'UPLEFTFIRE', 'DOWNRIGHTFIRE', 'DOWNLEFTFIRE']\n",
    "\n",
    "print(\"\\nObservation space:\", obs_space)\n",
    "\n",
    "\n",
    "obs, _ = env.reset()\n",
    "print(\"Observation shape:\", obs.shape)\n",
    "env.close()"
   ]
  },
  {
   "cell_type": "code",
   "execution_count": null,
   "id": "1d65b8ef-2cd8-45de-a190-9359e3b6dfa6",
   "metadata": {},
   "outputs": [],
   "source": []
  },
  {
   "cell_type": "code",
   "execution_count": null,
   "id": "4a2a3d1f-3c57-4979-b34a-5094ca500faf",
   "metadata": {},
   "outputs": [],
   "source": []
  },
  {
   "cell_type": "code",
   "execution_count": null,
   "id": "e19390f6-0d7a-4cb8-baaf-d3720aa26f5e",
   "metadata": {},
   "outputs": [],
   "source": []
  },
  {
   "cell_type": "code",
   "execution_count": null,
   "id": "84ea643b-93cd-4fe0-9007-bfe7f14de7be",
   "metadata": {},
   "outputs": [],
   "source": [
    "# Create the Superman environment\n",
    "# And enable visual rendering so humans can SEE it\n",
    "RENDER_MODE = \"human\"\n",
    "# RENDER_MODE = \"rgb_array\"\n",
    "# RENDER_MODE = \"ansi\"\n",
    "# RENDER_MODE = None\n",
    "\n",
    "env = gym.make(\"ALE/Superman-v5\", render_mode=RENDER_MODE)\n",
    "# NOTICE: A python window appears\n",
    "\n",
    "# RESET environment to initial state\n",
    "# obs: initial game state\n",
    "# info: extra info about environment state\n",
    "obs, info = env.reset()"
   ]
  },
  {
   "cell_type": "code",
   "execution_count": null,
   "id": "4066db39-340b-4799-912a-854afb99fedf",
   "metadata": {},
   "outputs": [],
   "source": []
  },
  {
   "cell_type": "code",
   "execution_count": null,
   "id": "4ddf0cf7-dc95-4c44-964c-2a76478e06b8",
   "metadata": {},
   "outputs": [],
   "source": []
  },
  {
   "cell_type": "code",
   "execution_count": null,
   "id": "5a1b4bab-533f-462e-a18c-dedf459207f4",
   "metadata": {},
   "outputs": [],
   "source": []
  },
  {
   "cell_type": "code",
   "execution_count": null,
   "id": "4feaedcf-6bc6-4ed6-b258-81eb84203c64",
   "metadata": {},
   "outputs": [],
   "source": []
  },
  {
   "cell_type": "code",
   "execution_count": null,
   "id": "7bd7d31f-3c9d-45c3-963d-71e8859f73c9",
   "metadata": {},
   "outputs": [],
   "source": [
    "# 1 episode is 1 complete game session...\n",
    "total_episodes_to_run = 50\n",
    "max_steps = 1000\n",
    "\n",
    "for episode in range(total_episodes_to_run):\n",
    "    # Init counters to track reward & steps\n",
    "    total_reward = 0\n",
    "    steps = 0\n",
    "\n",
    "    # Start an INFINITE LOOP that runs until the episode ends\n",
    "    while steps < max_steps:\n",
    "        # action_space: all possible actions agent can do\n",
    "        \n",
    "        # Select a RANDOM ACTION from action space\n",
    "        action = env.action_space.sample()\n",
    "\n",
    "        # env.step: EXECUTE the chosen action\n",
    "        # Returns:\n",
    "        # obs: new obsered state after taking the action\n",
    "        # reward: received reward\n",
    "        # terminated: T/F if episode ended bc of game rules\n",
    "        # truncated: T/F if episode ended bc of external factors\n",
    "        # info: extra environment info\n",
    "        obs, reward, terminated, truncated, info = env.step(action)\n",
    "\n",
    "        # Increment reward & steps\n",
    "        total_reward += reward\n",
    "        steps += 1\n",
    "\n",
    "        \n",
    "        # CHECK if episode ended\n",
    "        if terminated or truncated:\n",
    "            break\n",
    "            \n",
    "    print(f\"Episode {episode+1}: Reward={total_reward}, Steps={steps}\")\n",
    "    # Reset the environment for the NEXT episode\n",
    "    obs, info = env.reset()\n",
    "\n",
    "    # REGULARLY RESTART THE ENVIRONEMNT every 10 episodes\n",
    "    if (episode + 1) % 10 == 0:\n",
    "        env.close()\n",
    "        env = gym.make(\"ALE/Superman-v5\", render_mode=RENDER_MODE)\n",
    "        obs, info = env.reset()\n",
    "        \n",
    "# Close the environment & release any resources\n",
    "env.close()"
   ]
  },
  {
   "cell_type": "code",
   "execution_count": null,
   "id": "d545b4a9-36e6-44db-9c28-0829713784ec",
   "metadata": {},
   "outputs": [],
   "source": []
  },
  {
   "cell_type": "code",
   "execution_count": null,
   "id": "c82c3a45-b795-42f3-ba5e-335f8a5f7aa1",
   "metadata": {},
   "outputs": [],
   "source": []
  },
  {
   "cell_type": "code",
   "execution_count": null,
   "id": "ec9705ca-e8d8-4332-81b4-35f43e5fe130",
   "metadata": {},
   "outputs": [],
   "source": []
  },
  {
   "cell_type": "code",
   "execution_count": null,
   "id": "fb330f7c-f51f-43a8-8611-7c83c1d215ff",
   "metadata": {},
   "outputs": [],
   "source": []
  },
  {
   "cell_type": "code",
   "execution_count": null,
   "id": "a1f7692b-bc93-44e4-bcc0-27b90072d089",
   "metadata": {},
   "outputs": [],
   "source": []
  },
  {
   "cell_type": "code",
   "execution_count": null,
   "id": "2aa5585b-8d04-40d1-be03-0370e6c6db90",
   "metadata": {},
   "outputs": [],
   "source": []
  }
 ],
 "metadata": {
  "kernelspec": {
   "display_name": "Python 3 (ipykernel)",
   "language": "python",
   "name": "python3"
  },
  "language_info": {
   "codemirror_mode": {
    "name": "ipython",
    "version": 3
   },
   "file_extension": ".py",
   "mimetype": "text/x-python",
   "name": "python",
   "nbconvert_exporter": "python",
   "pygments_lexer": "ipython3",
   "version": "3.9.23"
  }
 },
 "nbformat": 4,
 "nbformat_minor": 5
}
