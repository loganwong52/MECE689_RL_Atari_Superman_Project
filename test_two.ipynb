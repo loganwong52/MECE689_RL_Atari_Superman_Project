{
 "cells": [
  {
   "cell_type": "code",
   "execution_count": 1,
   "id": "602994dd-6893-44c2-969e-d24aeeb97899",
   "metadata": {},
   "outputs": [],
   "source": [
    "import gymnasium as gym\n",
    "import ale_py\n",
    "import numpy as np\n",
    "import time\n",
    "from gymnasium.envs.registry import registry\n",
    "\n"
   ]
  },
  {
   "cell_type": "code",
   "execution_count": 2,
   "id": "b99578fd-8fe9-4a80-ba5c-1849bc2c46c8",
   "metadata": {},
   "outputs": [
    {
     "name": "stdout",
     "output_type": "stream",
     "text": [
      "ale_py version: 0.8.1\n",
      "gymnasium version: 0.28.1\n"
     ]
    }
   ],
   "source": [
    "# Test that everything works\n",
    "print(\"ale_py version:\", ale_py.__version__)\n",
    "print(\"gymnasium version:\", gym.__version__)"
   ]
  },
  {
   "cell_type": "code",
   "execution_count": null,
   "id": "b4f340dd-497a-4f63-b818-1e4fdb346c34",
   "metadata": {},
   "outputs": [],
   "source": []
  },
  {
   "cell_type": "code",
   "execution_count": null,
   "id": "9e9c4c1e-1d7d-4259-9c7e-8335c8af156c",
   "metadata": {},
   "outputs": [],
   "source": [
    "\n",
    "# List all available Atari environments\n",
    "atari_envs = [env_id for env_id in registry.keys() if 'ALE' in env_id or 'atari' in env_id.lower()]\n",
    "print(\"Available Atari environments:\", len(atari_envs))\n",
    "\n",
    "# Check if Superman is available\n",
    "superman_envs = [env_id for env_id in atari_envs if 'Superman' in env_id]\n",
    "print(\"Superman environments found:\", superman_envs)"
   ]
  },
  {
   "cell_type": "code",
   "execution_count": null,
   "id": "7bd7d31f-3c9d-45c3-963d-71e8859f73c9",
   "metadata": {},
   "outputs": [],
   "source": [
    "# Create the Superman environment\n",
    "env = gym.make(\"ALE/Superman-v5\", render_mode=\"human\")\n",
    "obs, info = env.reset()\n",
    "\n",
    "for episode in range(3):\n",
    "    total_reward = 0\n",
    "    steps = 0\n",
    "    \n",
    "    while True:\n",
    "        action = env.action_space.sample()\n",
    "        obs, reward, terminated, truncated, info = env.step(action)\n",
    "        total_reward += reward\n",
    "        steps += 1\n",
    "        \n",
    "        # Option 1: Use Gymnasium's recommended approach\n",
    "        if terminated or truncated:\n",
    "            print(f\"Episode {episode+1}: Reward={total_reward}, Steps={steps}\")\n",
    "            obs, info = env.reset()\n",
    "            break\n",
    "            \n",
    "        # Option 2: If you MUST use ale.game_over() (not recommended)\n",
    "        # if env.ale.game_over():  # NO ARGUMENTS!\n",
    "        #     print(f\"Episode {episode+1}: Reward={total_reward}, Steps={steps}\")\n",
    "        #     obs, info = env.reset()\n",
    "        #     break\n",
    "\n",
    "env.close()"
   ]
  },
  {
   "cell_type": "code",
   "execution_count": null,
   "id": "d545b4a9-36e6-44db-9c28-0829713784ec",
   "metadata": {},
   "outputs": [],
   "source": []
  },
  {
   "cell_type": "code",
   "execution_count": null,
   "id": "c82c3a45-b795-42f3-ba5e-335f8a5f7aa1",
   "metadata": {},
   "outputs": [],
   "source": []
  },
  {
   "cell_type": "code",
   "execution_count": null,
   "id": "ec9705ca-e8d8-4332-81b4-35f43e5fe130",
   "metadata": {},
   "outputs": [],
   "source": []
  },
  {
   "cell_type": "code",
   "execution_count": null,
   "id": "fb330f7c-f51f-43a8-8611-7c83c1d215ff",
   "metadata": {},
   "outputs": [],
   "source": []
  },
  {
   "cell_type": "code",
   "execution_count": 6,
   "id": "a1f7692b-bc93-44e4-bcc0-27b90072d089",
   "metadata": {},
   "outputs": [
    {
     "ename": "ModuleNotFoundError",
     "evalue": "No module named 'matplotlib'",
     "output_type": "error",
     "traceback": [
      "\u001b[1;31m---------------------------------------------------------------------------\u001b[0m",
      "\u001b[1;31mModuleNotFoundError\u001b[0m                       Traceback (most recent call last)",
      "Cell \u001b[1;32mIn[6], line 2\u001b[0m\n\u001b[0;32m      1\u001b[0m \u001b[38;5;28;01mimport\u001b[39;00m\u001b[38;5;250m \u001b[39m\u001b[38;5;21;01mgymnasium\u001b[39;00m\u001b[38;5;250m \u001b[39m\u001b[38;5;28;01mas\u001b[39;00m\u001b[38;5;250m \u001b[39m\u001b[38;5;21;01mgym\u001b[39;00m\n\u001b[1;32m----> 2\u001b[0m \u001b[38;5;28;01mimport\u001b[39;00m\u001b[38;5;250m \u001b[39m\u001b[38;5;21;01mmatplotlib\u001b[39;00m\u001b[38;5;21;01m.\u001b[39;00m\u001b[38;5;21;01mpyplot\u001b[39;00m\u001b[38;5;250m \u001b[39m\u001b[38;5;28;01mas\u001b[39;00m\u001b[38;5;250m \u001b[39m\u001b[38;5;21;01mplt\u001b[39;00m\n\u001b[0;32m      3\u001b[0m get_ipython()\u001b[38;5;241m.\u001b[39mrun_line_magic(\u001b[38;5;124m'\u001b[39m\u001b[38;5;124mmatplotlib\u001b[39m\u001b[38;5;124m'\u001b[39m, \u001b[38;5;124m'\u001b[39m\u001b[38;5;124minline\u001b[39m\u001b[38;5;124m'\u001b[39m)\n\u001b[0;32m      5\u001b[0m env \u001b[38;5;241m=\u001b[39m gym\u001b[38;5;241m.\u001b[39mmake(\u001b[38;5;124m\"\u001b[39m\u001b[38;5;124mALE/Superman-v5\u001b[39m\u001b[38;5;124m\"\u001b[39m, render_mode\u001b[38;5;241m=\u001b[39m\u001b[38;5;124m\"\u001b[39m\u001b[38;5;124mrgb_array\u001b[39m\u001b[38;5;124m\"\u001b[39m)\n",
      "\u001b[1;31mModuleNotFoundError\u001b[0m: No module named 'matplotlib'"
     ]
    }
   ],
   "source": [
    "import gymnasium as gym\n",
    "import matplotlib.pyplot as plt\n",
    "%matplotlib inline\n",
    "\n",
    "env = gym.make(\"ALE/Superman-v5\", render_mode=\"rgb_array\")\n",
    "obs, info = env.reset()\n",
    "\n",
    "# Display the first frame\n",
    "plt.figure(figsize=(6, 6))\n",
    "plt.imshow(obs)\n",
    "plt.title(\"Superman Game Frame\")\n",
    "plt.axis('off')\n",
    "plt.show()\n",
    "\n",
    "env.close()"
   ]
  },
  {
   "cell_type": "code",
   "execution_count": null,
   "id": "2aa5585b-8d04-40d1-be03-0370e6c6db90",
   "metadata": {},
   "outputs": [],
   "source": []
  }
 ],
 "metadata": {
  "kernelspec": {
   "display_name": "Python 3 (ipykernel)",
   "language": "python",
   "name": "python3"
  },
  "language_info": {
   "codemirror_mode": {
    "name": "ipython",
    "version": 3
   },
   "file_extension": ".py",
   "mimetype": "text/x-python",
   "name": "python",
   "nbconvert_exporter": "python",
   "pygments_lexer": "ipython3",
   "version": "3.9.23"
  }
 },
 "nbformat": 4,
 "nbformat_minor": 5
}
