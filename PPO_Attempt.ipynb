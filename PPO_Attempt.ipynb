{
 "cells": [
  {
   "cell_type": "code",
   "execution_count": null,
   "id": "73090434-03f3-401b-a5c0-025f6d5d5f1a",
   "metadata": {},
   "outputs": [],
   "source": [
    "import gymnasium as gym\n",
    "from stable_baselines3 import PPO\n",
    "import numpy as np"
   ]
  },
  {
   "cell_type": "code",
   "execution_count": null,
   "id": "77b783b9-bc5f-4625-aebe-c517c5bf7c9c",
   "metadata": {},
   "outputs": [],
   "source": []
  },
  {
   "cell_type": "code",
   "execution_count": null,
   "id": "773c7a9c-8bc0-4232-8917-075117722e6e",
   "metadata": {},
   "outputs": [],
   "source": [
    "env = gym.make(\"ALE/Superman-v5\", \n",
    "               render_mode=None,\n",
    "               frameskip=4,\n",
    "               full_action_space=False)\n",
    "\n",
    "print(\"Environment created!\")\n",
    "print(\"Action space:\", env.action_space)\n",
    "print(\"Observation space:\", env.observation_space)"
   ]
  },
  {
   "cell_type": "code",
   "execution_count": null,
   "id": "b046b0fe-c7ee-4a4e-8ca2-1054b7fb1f3f",
   "metadata": {},
   "outputs": [],
   "source": []
  },
  {
   "cell_type": "code",
   "execution_count": 2,
   "id": "50e1785f-9309-47b5-9e16-01bcca0d249b",
   "metadata": {},
   "outputs": [],
   "source": [
    "# Initialize PPO model with optimized parameters for Atari\n",
    "model = PPO(\n",
    "    policy=\"CnnPolicy\",           # Use CNN for pixel input\n",
    "    env=env,\n",
    "    learning_rate=2.5e-4,         # Adam learning rate\n",
    "    n_steps=128,                  # Steps per environment per update\n",
    "    batch_size=256,               # Minibatch size\n",
    "    n_epochs=4,                   # Number of epoch when optimizing the surrogate\n",
    "    gamma=0.99,                   # Discount factor\n",
    "    gae_lambda=0.95,              # Factor for trade-off of bias vs variance\n",
    "    clip_range=0.1,               # Surrogate clipping coefficient\n",
    "    clip_range_vf=None,           # Value function clipping (None for auto)\n",
    "    normalize_advantage=True,     # Normalize advantages\n",
    "    ent_coef=0.01,                # Entropy coefficient (encourages exploration)\n",
    "    vf_coef=0.5,                  # Value function coefficient in loss\n",
    "    max_grad_norm=0.5,            # Maximum gradient norm\n",
    "    tensorboard_log=\"./ppo_superman_tensorboard/\",  # Log for TensorBoard\n",
    "    verbose=1                     # Print training progress\n",
    ")\n",
    "\n",
    "print(\"PPO model created successfully!\")"
   ]
  },
  {
   "cell_type": "code",
   "execution_count": null,
   "id": "4e2d2fc9-5a0d-46bc-ac26-d5342ef8f44d",
   "metadata": {},
   "outputs": [],
   "source": [
    "# Train the model\n",
    "print(\"Starting PPO training...\")\n",
    "# 1M steps\n",
    "model.learn(total_timesteps=1000000)\n",
    "\n",
    "print(\"PPO training completed!\")"
   ]
  },
  {
   "cell_type": "code",
   "execution_count": null,
   "id": "bac649c0-a8f7-4ae8-8918-58e57cd9ca8b",
   "metadata": {},
   "outputs": [],
   "source": [
    "# Save the model\n",
    "model.save(\"ppo_superman\")\n",
    "print(\"PPO model saved as 'ppo_superman'\")"
   ]
  },
  {
   "cell_type": "code",
   "execution_count": null,
   "id": "9c8ab8c1-4f98-4770-8d0a-beabd4be2b3b",
   "metadata": {},
   "outputs": [],
   "source": []
  },
  {
   "cell_type": "code",
   "execution_count": null,
   "id": "cf8eb5af-e7fa-4d73-b8c6-554255f2bfe8",
   "metadata": {},
   "outputs": [],
   "source": []
  },
  {
   "cell_type": "code",
   "execution_count": null,
   "id": "d4d1576a-1e5c-4902-b9cc-26970fa39107",
   "metadata": {},
   "outputs": [],
   "source": []
  },
  {
   "cell_type": "code",
   "execution_count": null,
   "id": "197dcb70-a257-40cd-9770-f15e2562505f",
   "metadata": {},
   "outputs": [],
   "source": []
  }
 ],
 "metadata": {
  "kernelspec": {
   "display_name": "Python 3 (ipykernel)",
   "language": "python",
   "name": "python3"
  },
  "language_info": {
   "codemirror_mode": {
    "name": "ipython",
    "version": 3
   },
   "file_extension": ".py",
   "mimetype": "text/x-python",
   "name": "python",
   "nbconvert_exporter": "python",
   "pygments_lexer": "ipython3",
   "version": "3.9.23"
  }
 },
 "nbformat": 4,
 "nbformat_minor": 5
}
