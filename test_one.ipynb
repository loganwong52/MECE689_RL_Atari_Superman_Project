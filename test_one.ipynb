{
 "cells": [
  {
   "cell_type": "code",
   "execution_count": 1,
   "id": "201b2d08-c126-4de5-a11b-abd1a74e64a8",
   "metadata": {},
   "outputs": [],
   "source": [
    "import gymnasium as gym\n",
    "import ale_py\n"
   ]
  },
  {
   "cell_type": "code",
   "execution_count": 2,
   "id": "de4d7837-67b7-4704-9477-bfcb970aab98",
   "metadata": {},
   "outputs": [
    {
     "name": "stdout",
     "output_type": "stream",
     "text": [
      "ale_py version: 0.8.1\n"
     ]
    }
   ],
   "source": [
    "print(\"ale_py version:\", ale_py.__version__)"
   ]
  },
  {
   "cell_type": "code",
   "execution_count": 3,
   "id": "92233b35-522d-4584-968f-5cc6cee46c9e",
   "metadata": {},
   "outputs": [
    {
     "name": "stdout",
     "output_type": "stream",
     "text": [
      "Success with ALE/Superman-v5!\n",
      "Observation shape: (210, 160, 3)\n"
     ]
    }
   ],
   "source": [
    "# Try different environment names\n",
    "try:\n",
    "    env = gym.make(\"ALE/Superman-v5\", render_mode=\"human\")\n",
    "    print(\"Success with ALE/Superman-v5!\")\n",
    "except:\n",
    "    try:\n",
    "        env = gym.make(\"Superman-v5\", render_mode=\"human\")\n",
    "        print(\"Success with Superman-v5!\")\n",
    "    except:\n",
    "        env = gym.make(\"Superman-ram-v5\", render_mode=\"human\")\n",
    "        print(\"Success with Superman-ram-v5!\")\n",
    "\n",
    "obs, info = env.reset()\n",
    "print(\"Observation shape:\", obs.shape)\n",
    "env.close()"
   ]
  },
  {
   "cell_type": "code",
   "execution_count": null,
   "id": "ca8a79e6-f2b9-4b7c-94cf-78b4e93e58f7",
   "metadata": {},
   "outputs": [],
   "source": []
  },
  {
   "cell_type": "code",
   "execution_count": null,
   "id": "9b960384-bef1-4a9b-b081-183758a8db36",
   "metadata": {},
   "outputs": [],
   "source": []
  },
  {
   "cell_type": "code",
   "execution_count": null,
   "id": "c6bb6cf4-8c95-4bc0-8b0a-4ccc051c379f",
   "metadata": {},
   "outputs": [],
   "source": []
  }
 ],
 "metadata": {
  "kernelspec": {
   "display_name": "Python 3 (ipykernel)",
   "language": "python",
   "name": "python3"
  },
  "language_info": {
   "codemirror_mode": {
    "name": "ipython",
    "version": 3
   },
   "file_extension": ".py",
   "mimetype": "text/x-python",
   "name": "python",
   "nbconvert_exporter": "python",
   "pygments_lexer": "ipython3",
   "version": "3.9.23"
  }
 },
 "nbformat": 4,
 "nbformat_minor": 5
}
