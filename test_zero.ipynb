{
 "cells": [
  {
   "cell_type": "code",
   "execution_count": 1,
   "id": "8c2ebff1-4ccb-4af2-9564-06b1d2d339af",
   "metadata": {},
   "outputs": [],
   "source": [
    "import gymnasium as gym\n",
    "import ale_py"
   ]
  },
  {
   "cell_type": "code",
   "execution_count": 4,
   "id": "48642f12-374c-4350-8d8c-16cd1538a6f1",
   "metadata": {},
   "outputs": [
    {
     "name": "stdout",
     "output_type": "stream",
     "text": [
      "ALE namespace registered: True\n",
      "Superman in registry: True\n"
     ]
    }
   ],
   "source": [
    "print(\"ALE namespace registered:\", any(spec.namespace==\"ALE\" for spec in gym.envs.registry.values()))\n",
    "print(\"Superman in registry:\", \"ALE/Superman-v5\" in gym.envs.registry)"
   ]
  },
  {
   "cell_type": "code",
   "execution_count": 7,
   "id": "9c14d0fb-fc1d-4189-accf-d9145259ef09",
   "metadata": {},
   "outputs": [
    {
     "name": "stdout",
     "output_type": "stream",
     "text": [
      "(210, 160, 3)\n"
     ]
    }
   ],
   "source": [
    "# Create the Superman environment using the ALE namespace\n",
    "# SET RENDER MODE to RGB pixel array, INSTEAD OF DISPLAYING TO SCREEN\n",
    "# This WON'T show a visual window, but provides pixel data for programmatic use\n",
    "env = gym.make(\"ALE/Superman-v5\", render_mode=\"rgb_array\")\n",
    "# Reset environment to initial state\n",
    "obs, info = env.reset()\n",
    "# obs is (height, width, color channels): \n",
    "# 210 pixels tall, 160 pixels wide, with 3 color channels\n",
    "print(obs.shape)\n",
    "# print(obs)"
   ]
  },
  {
   "cell_type": "code",
   "execution_count": null,
   "id": "e7352dc1-0e2e-4ec3-8fc5-54ecbbbeb6a6",
   "metadata": {},
   "outputs": [],
   "source": []
  }
 ],
 "metadata": {
  "kernelspec": {
   "display_name": "Python 3 (ipykernel)",
   "language": "python",
   "name": "python3"
  },
  "language_info": {
   "codemirror_mode": {
    "name": "ipython",
    "version": 3
   },
   "file_extension": ".py",
   "mimetype": "text/x-python",
   "name": "python",
   "nbconvert_exporter": "python",
   "pygments_lexer": "ipython3",
   "version": "3.9.23"
  }
 },
 "nbformat": 4,
 "nbformat_minor": 5
}
